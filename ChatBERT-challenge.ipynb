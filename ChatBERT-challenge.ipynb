{
 "cells": [
  {
   "cell_type": "code",
   "execution_count": 1,
   "metadata": {},
   "outputs": [],
   "source": [
    "import os\n",
    "import pathlib\n",
    "import json\n",
    "    \n",
    "import pandas as pd\n",
    "from simpletransformers.question_answering import QuestionAnsweringModel, QuestionAnsweringArgs"
   ]
  },
  {
   "cell_type": "code",
   "execution_count": 12,
   "metadata": {},
   "outputs": [],
   "source": [
    "from transformers import logging\n",
    "\n",
    "logging.set_verbosity_warning()"
   ]
  },
  {
   "cell_type": "markdown",
   "metadata": {},
   "source": [
    "### Data processing"
   ]
  },
  {
   "cell_type": "markdown",
   "metadata": {},
   "source": [
    "Using simpletransformers the input data for a QuestionAnsweringModel should be a single list of dictionaries or a path to a json file containing the same.\\\n",
    "Read more about the input data format here: https://simpletransformers.ai/docs/qa-data-formats/"
   ]
  },
  {
   "cell_type": "code",
   "execution_count": 2,
   "metadata": {},
   "outputs": [
    {
     "data": {
      "text/html": [
       "<div>\n",
       "<style scoped>\n",
       "    .dataframe tbody tr th:only-of-type {\n",
       "        vertical-align: middle;\n",
       "    }\n",
       "\n",
       "    .dataframe tbody tr th {\n",
       "        vertical-align: top;\n",
       "    }\n",
       "\n",
       "    .dataframe thead th {\n",
       "        text-align: right;\n",
       "    }\n",
       "</style>\n",
       "<table border=\"1\" class=\"dataframe\">\n",
       "  <thead>\n",
       "    <tr style=\"text-align: right;\">\n",
       "      <th></th>\n",
       "      <th>id</th>\n",
       "      <th>question</th>\n",
       "      <th>answer</th>\n",
       "      <th>context</th>\n",
       "    </tr>\n",
       "  </thead>\n",
       "  <tbody>\n",
       "    <tr>\n",
       "      <th>0</th>\n",
       "      <td>1</td>\n",
       "      <td>A total of what percentage for members of supe...</td>\n",
       "      <td>40%</td>\n",
       "      <td>ntary achievement of the goal of sexual divers...</td>\n",
       "    </tr>\n",
       "    <tr>\n",
       "      <th>1</th>\n",
       "      <td>2</td>\n",
       "      <td>Are ESG risks considered as a new risk category?</td>\n",
       "      <td>ESG risks do not represent a new risk category...</td>\n",
       "      <td>ESG risks do not represent a new risk category...</td>\n",
       "    </tr>\n",
       "    <tr>\n",
       "      <th>2</th>\n",
       "      <td>3</td>\n",
       "      <td>At NLB Komercijalna banka Beograd the way the ...</td>\n",
       "      <td>CollectiveAgreement of the Bank</td>\n",
       "      <td>he way in which thebank and trade union cooper...</td>\n",
       "    </tr>\n",
       "    <tr>\n",
       "      <th>3</th>\n",
       "      <td>4</td>\n",
       "      <td>At the end of 2022, what was conducted on the ...</td>\n",
       "      <td>the internal ESG audit review</td>\n",
       "      <td>At the end of 2022, the internal ESG audit rev...</td>\n",
       "    </tr>\n",
       "    <tr>\n",
       "      <th>4</th>\n",
       "      <td>5</td>\n",
       "      <td>By 2022, how much of new corporate financing h...</td>\n",
       "      <td>166.9 million</td>\n",
       "      <td>Target achivements in 2022By year 2022 the NLB...</td>\n",
       "    </tr>\n",
       "  </tbody>\n",
       "</table>\n",
       "</div>"
      ],
      "text/plain": [
       "   id                                           question  \\\n",
       "0   1  A total of what percentage for members of supe...   \n",
       "1   2  Are ESG risks considered as a new risk category?    \n",
       "2   3  At NLB Komercijalna banka Beograd the way the ...   \n",
       "3   4  At the end of 2022, what was conducted on the ...   \n",
       "4   5  By 2022, how much of new corporate financing h...   \n",
       "\n",
       "                                              answer  \\\n",
       "0                                                40%   \n",
       "1  ESG risks do not represent a new risk category...   \n",
       "2                    CollectiveAgreement of the Bank   \n",
       "3                      the internal ESG audit review   \n",
       "4                                      166.9 million   \n",
       "\n",
       "                                             context  \n",
       "0  ntary achievement of the goal of sexual divers...  \n",
       "1  ESG risks do not represent a new risk category...  \n",
       "2  he way in which thebank and trade union cooper...  \n",
       "3  At the end of 2022, the internal ESG audit rev...  \n",
       "4  Target achivements in 2022By year 2022 the NLB...  "
      ]
     },
     "metadata": {},
     "output_type": "display_data"
    }
   ],
   "source": [
    "# read in the data\n",
    "train_data_path = pathlib.Path(\"data/questions_answers_train.xlsx\")\n",
    "test_data_path = pathlib.Path(\"data/questions_answers_test.xlsx\")\n",
    "train, test = pd.read_excel(train_data_path), pd.read_excel(test_data_path)\n",
    "display(train.head())"
   ]
  },
  {
   "cell_type": "code",
   "execution_count": 3,
   "metadata": {},
   "outputs": [],
   "source": [
    "# function to process the data in tabular format row by row\n",
    "def process_row(row):\n",
    "    context, id, question, answer = str(row[\"context\"]), int(row[\"id\"]), str(row[\"question\"]), str(row[\"answer\"])\n",
    "    \n",
    "    answer_start = context.find(answer)\n",
    "    is_impossible = False if answer_start != -1 else True\n",
    "    answers = [{\"text\": answer, \"answer_start\": answer_start}] if not is_impossible else []\n",
    "    \n",
    "    # a list of questions and answers \n",
    "    # in principle we could have multiple questions per context and multiple answers per question\n",
    "    qas = [\n",
    "        {\n",
    "            \"id\": id,\n",
    "            \"question\": question,\n",
    "            \"is_impossible\": is_impossible,\n",
    "            \"answers\": answers\n",
    "        }\n",
    "    ]\n",
    "    \n",
    "    return {\"context\": context, \"qas\": qas}"
   ]
  },
  {
   "cell_type": "code",
   "execution_count": 4,
   "metadata": {},
   "outputs": [],
   "source": [
    "# process the data and write to json file\n",
    "train[\"json\"] = train.apply(process_row, axis=1)\n",
    "test[\"json\"] = test.apply(process_row, axis=1)\n",
    "\n",
    "with open(train_data_path.with_suffix(\".json\"), \"w\", encoding=\"utf-8\") as f:\n",
    "    json.dump(train[\"json\"].tolist(), f, indent=2, ensure_ascii=False)\n",
    "\n",
    "with open(test_data_path.with_suffix(\".json\"), \"w\", encoding=\"utf-8\") as f:\n",
    "    json.dump(test[\"json\"].tolist(), f, indent=2, ensure_ascii=False)"
   ]
  },
  {
   "cell_type": "markdown",
   "metadata": {},
   "source": [
    "### Train and evaluate"
   ]
  },
  {
   "cell_type": "code",
   "execution_count": 5,
   "metadata": {},
   "outputs": [],
   "source": [
    "model_type = \"bert\"\n",
    "model_name = \"bert-base-cased\"\n",
    "\n",
    "# paths for saving models\n",
    "models_output_dir = pathlib.Path(\"models\")\n",
    "model_output_dir = models_output_dir / model_type\n",
    "best_model_output_dir = model_output_dir / \"best_model\"\n",
    "\n",
    "# create folders if they don't exist\n",
    "model_output_dir.mkdir(parents=True, exist_ok=True)\n",
    "best_model_output_dir.mkdir(parents=True, exist_ok=True)"
   ]
  },
  {
   "cell_type": "code",
   "execution_count": 9,
   "metadata": {},
   "outputs": [
    {
     "name": "stderr",
     "output_type": "stream",
     "text": [
      "Some weights of BertForQuestionAnswering were not initialized from the model checkpoint at bert-base-cased and are newly initialized: ['qa_outputs.weight', 'qa_outputs.bias']\n",
      "You should probably TRAIN this model on a down-stream task to be able to use it for predictions and inference.\n"
     ]
    }
   ],
   "source": [
    "train_args = {\n",
    "    \"reprocess_input_data\": True,\n",
    "    \"overwrite_output_dir\": True,\n",
    "    \"use_cached_eval_features\": True,\n",
    "    \"output_dir\": str(model_output_dir),\n",
    "    \"best_model_dir\": str(best_model_output_dir),\n",
    "    \"evaluate_during_training\": True,\n",
    "    \"max_seq_length\": 128,\n",
    "    \"num_train_epochs\": 5,\n",
    "    \"evaluate_during_training_steps\": 1000,\n",
    "    \"save_model_every_epoch\": False,\n",
    "    \"save_eval_checkpoints\": False,\n",
    "    \"n_best_size\":8,\n",
    "    \"train_batch_size\": 16,\n",
    "    \"eval_batch_size\": 16\n",
    "}\n",
    "\n",
    "model = QuestionAnsweringModel(model_type, model_name, args=train_args, use_cuda=False)"
   ]
  },
  {
   "cell_type": "code",
   "execution_count": 10,
   "metadata": {},
   "outputs": [],
   "source": [
    "# load train and test data from json\n",
    "with open(train_data_path.with_suffix(\".json\"), \"r\", encoding=\"utf-8\") as f:\n",
    "    train = json.load(f)\n",
    "\n",
    "with open(test_data_path.with_suffix(\".json\"), \"r\", encoding=\"utf-8\") as f:\n",
    "    test = json.load(f)"
   ]
  },
  {
   "cell_type": "code",
   "execution_count": 11,
   "metadata": {},
   "outputs": [
    {
     "name": "stderr",
     "output_type": "stream",
     "text": [
      "convert squad examples to features: 100%|███████████████████████████████████████████| 544/544 [00:01<00:00, 460.18it/s]\n",
      "add example index and unique id: 100%|███████████████████████████████████████████| 544/544 [00:00<00:00, 543650.55it/s]\n"
     ]
    },
    {
     "data": {
      "application/vnd.jupyter.widget-view+json": {
       "model_id": "f350b4c637e44a7c93e86775377bfc25",
       "version_major": 2,
       "version_minor": 0
      },
      "text/plain": [
       "Epoch:   0%|          | 0/5 [00:00<?, ?it/s]"
      ]
     },
     "metadata": {},
     "output_type": "display_data"
    },
    {
     "data": {
      "application/vnd.jupyter.widget-view+json": {
       "model_id": "1b78f9e4caf94ca1b7d29c292170261f",
       "version_major": 2,
       "version_minor": 0
      },
      "text/plain": [
       "Running Epoch 0 of 5:   0%|          | 0/34 [00:00<?, ?it/s]"
      ]
     },
     "metadata": {},
     "output_type": "display_data"
    },
    {
     "name": "stderr",
     "output_type": "stream",
     "text": [
      "\n",
      "convert squad examples to features: 100%|█████████████████████████████████████████████| 52/52 [00:00<00:00, 547.19it/s]\u001b[A\n",
      "\n",
      "add example index and unique id: 100%|█████████████████████████████████████████████████████████| 52/52 [00:00<?, ?it/s]\u001b[A\n"
     ]
    },
    {
     "data": {
      "application/vnd.jupyter.widget-view+json": {
       "model_id": "e3e240309c9e47daae9522c2de8d121c",
       "version_major": 2,
       "version_minor": 0
      },
      "text/plain": [
       "Running Evaluation:   0%|          | 0/4 [00:00<?, ?it/s]"
      ]
     },
     "metadata": {},
     "output_type": "display_data"
    },
    {
     "data": {
      "application/vnd.jupyter.widget-view+json": {
       "model_id": "782640bc58f24bcc8b8568665ad482bf",
       "version_major": 2,
       "version_minor": 0
      },
      "text/plain": [
       "Running Epoch 1 of 5:   0%|          | 0/34 [00:00<?, ?it/s]"
      ]
     },
     "metadata": {},
     "output_type": "display_data"
    },
    {
     "data": {
      "application/vnd.jupyter.widget-view+json": {
       "model_id": "806840b33a214afa91c1341e1abafc92",
       "version_major": 2,
       "version_minor": 0
      },
      "text/plain": [
       "Running Evaluation:   0%|          | 0/4 [00:00<?, ?it/s]"
      ]
     },
     "metadata": {},
     "output_type": "display_data"
    },
    {
     "data": {
      "application/vnd.jupyter.widget-view+json": {
       "model_id": "ca714a94d77148b88d45e4afcf57265b",
       "version_major": 2,
       "version_minor": 0
      },
      "text/plain": [
       "Running Epoch 2 of 5:   0%|          | 0/34 [00:00<?, ?it/s]"
      ]
     },
     "metadata": {},
     "output_type": "display_data"
    },
    {
     "data": {
      "application/vnd.jupyter.widget-view+json": {
       "model_id": "0b42188579df41bb8f9f9157e23446a3",
       "version_major": 2,
       "version_minor": 0
      },
      "text/plain": [
       "Running Evaluation:   0%|          | 0/4 [00:00<?, ?it/s]"
      ]
     },
     "metadata": {},
     "output_type": "display_data"
    },
    {
     "data": {
      "application/vnd.jupyter.widget-view+json": {
       "model_id": "39b8766d97814a3baec4ebd18b8886ce",
       "version_major": 2,
       "version_minor": 0
      },
      "text/plain": [
       "Running Epoch 3 of 5:   0%|          | 0/34 [00:00<?, ?it/s]"
      ]
     },
     "metadata": {},
     "output_type": "display_data"
    },
    {
     "data": {
      "application/vnd.jupyter.widget-view+json": {
       "model_id": "3b3ec36ca64a43849d8c08d0555684b6",
       "version_major": 2,
       "version_minor": 0
      },
      "text/plain": [
       "Running Evaluation:   0%|          | 0/4 [00:00<?, ?it/s]"
      ]
     },
     "metadata": {},
     "output_type": "display_data"
    },
    {
     "data": {
      "application/vnd.jupyter.widget-view+json": {
       "model_id": "88d39cb849a04c808a5187a7772ae196",
       "version_major": 2,
       "version_minor": 0
      },
      "text/plain": [
       "Running Epoch 4 of 5:   0%|          | 0/34 [00:00<?, ?it/s]"
      ]
     },
     "metadata": {},
     "output_type": "display_data"
    },
    {
     "data": {
      "application/vnd.jupyter.widget-view+json": {
       "model_id": "c9d5d51df3014488854f8ce0cc7dba86",
       "version_major": 2,
       "version_minor": 0
      },
      "text/plain": [
       "Running Evaluation:   0%|          | 0/4 [00:00<?, ?it/s]"
      ]
     },
     "metadata": {},
     "output_type": "display_data"
    },
    {
     "data": {
      "text/plain": [
       "(170,\n",
       " {'global_step': [34, 68, 102, 136, 170],\n",
       "  'correct': [31, 36, 36, 38, 39],\n",
       "  'similar': [17, 12, 13, 11, 10],\n",
       "  'incorrect': [4, 4, 3, 3, 3],\n",
       "  'train_loss': [2.478241443634033,\n",
       "   0.8000431060791016,\n",
       "   0.6468679904937744,\n",
       "   0.5595228672027588,\n",
       "   0.1823987364768982],\n",
       "  'eval_loss': [-3.2782684564590454,\n",
       "   -4.601487159729004,\n",
       "   -5.46842348575592,\n",
       "   -6.073521852493286,\n",
       "   -6.340406179428101]})"
      ]
     },
     "execution_count": 11,
     "metadata": {},
     "output_type": "execute_result"
    }
   ],
   "source": [
    "model.train_model(train, eval_data=test)"
   ]
  },
  {
   "cell_type": "code",
   "execution_count": 13,
   "metadata": {},
   "outputs": [
    {
     "data": {
      "application/vnd.jupyter.widget-view+json": {
       "model_id": "43198757c0954771a03b827cdbde972f",
       "version_major": 2,
       "version_minor": 0
      },
      "text/plain": [
       "Running Evaluation:   0%|          | 0/4 [00:00<?, ?it/s]"
      ]
     },
     "metadata": {},
     "output_type": "display_data"
    },
    {
     "data": {
      "text/plain": [
       "{'correct': 39, 'similar': 10, 'incorrect': 3, 'eval_loss': -6.340406179428101}"
      ]
     },
     "execution_count": 13,
     "metadata": {},
     "output_type": "execute_result"
    }
   ],
   "source": [
    "result, texts = model.eval_model(test)\n",
    "result"
   ]
  },
  {
   "cell_type": "code",
   "execution_count": null,
   "metadata": {},
   "outputs": [],
   "source": []
  }
 ],
 "metadata": {
  "kernelspec": {
   "display_name": "Python 3 (ipykernel)",
   "language": "python",
   "name": "python3"
  },
  "language_info": {
   "codemirror_mode": {
    "name": "ipython",
    "version": 3
   },
   "file_extension": ".py",
   "mimetype": "text/x-python",
   "name": "python",
   "nbconvert_exporter": "python",
   "pygments_lexer": "ipython3",
   "version": "3.9.13"
  }
 },
 "nbformat": 4,
 "nbformat_minor": 2
}
